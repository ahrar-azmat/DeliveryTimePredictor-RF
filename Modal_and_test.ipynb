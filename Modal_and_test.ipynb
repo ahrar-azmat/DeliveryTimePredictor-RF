{
 "cells": [
  {
   "cell_type": "code",
   "execution_count": 26,
   "id": "225690cc",
   "metadata": {},
   "outputs": [
    {
     "name": "stdout",
     "output_type": "stream",
     "text": [
      "Predicted Delivery Times: [26.45083526 20.94900596]\n"
     ]
    }
   ],
   "source": [
    "import pandas as pd\n",
    "import numpy as np\n",
    "from sklearn.model_selection import train_test_split\n",
    "from sklearn.ensemble import RandomForestRegressor\n",
    "from sklearn.preprocessing import OneHotEncoder, StandardScaler\n",
    "from sklearn.compose import ColumnTransformer\n",
    "from sklearn.pipeline import Pipeline\n",
    "\n",
    "# Load your dataset\n",
    "data = pd.read_csv('./Dataset/dataset1.csv')\n",
    "\n",
    "# Preprocessing\n",
    "# Assuming your dataset has columns: 'Delivery_person_ID', 'Delivery_person_Age', \n",
    "# 'Delivery_person_Ratings', 'Type_of_order', 'Region', and 'Time_taken(min)'\n",
    "data['Region'], data['Delivery_Person_Unique_ID'] = data['Delivery_person_ID'].str.extract(r'([A-Z]+)([A-Z0-9]+)')\n",
    "data['Region'] = data['Region'].astype(str).str.replace('RES', '')\n",
    "\n",
    "X = data[['Delivery_person_Age', 'Delivery_person_Ratings', 'Type_of_order', 'Region']]\n",
    "y = data['Time_taken(min)']\n",
    "\n",
    "categorical_features = ['Type_of_order', 'Region']\n",
    "numerical_features = ['Delivery_person_Age', 'Delivery_person_Ratings']\n",
    "\n",
    "one_hot = OneHotEncoder()\n",
    "scaler = StandardScaler()\n",
    "transformer = ColumnTransformer([\n",
    "    (\"one_hot\", OneHotEncoder(handle_unknown='ignore'), categorical_features),\n",
    "    (\"scaler\", scaler, numerical_features)\n",
    "], remainder='passthrough')\n",
    "\n",
    "# Creating and fitting the model\n",
    "rf_model = Pipeline([\n",
    "    ('transformer', transformer),\n",
    "    ('random_forest', RandomForestRegressor(n_estimators=50, random_state=42))\n",
    "])\n",
    "\n",
    "X_train, X_test, y_train, y_test = train_test_split(X, y, test_size=0.2, random_state=42)\n",
    "rf_model.fit(X_train, y_train)\n",
    "\n",
    "\n"
   ]
  },
  {
   "cell_type": "code",
   "execution_count": 33,
   "id": "a3eba6cb",
   "metadata": {},
   "outputs": [],
   "source": [
    "import pandas as pd\n",
    "import random\n",
    "\n",
    "# Generating random test data\n",
    "num_samples = 200  # Anyone viewing this notebook can adjust the sample size if you have a test data you are free to use that as well\n",
    "\n",
    "\n",
    "test_data = pd.DataFrame({\n",
    "    'Delivery_person_Age': [random.choice(age_range) for _ in range(num_samples)],\n",
    "    'Delivery_person_Ratings': [random.choice(ratings) for _ in range(num_samples)],\n",
    "    'Type_of_order': [random.choice(order_types) for _ in range(num_samples)],\n",
    "    'Region': [random.choice(regions) for _ in range(num_samples)]\n",
    "})\n",
    "\n",
    "\n"
   ]
  },
  {
   "cell_type": "code",
   "execution_count": 34,
   "id": "f9a471de",
   "metadata": {},
   "outputs": [
    {
     "name": "stdout",
     "output_type": "stream",
     "text": [
      "     Delivery_person_Age  Delivery_person_Ratings Type_of_order  Region  \\\n",
      "0                     56                      4.6         Snack  RANCHI   \n",
      "1                     53                      3.6        Buffet    PUNE   \n",
      "2                     31                      3.1          Meal     HYD   \n",
      "3                     21                      4.4         Snack     HYD   \n",
      "4                     46                      3.5        Buffet    CHEN   \n",
      "..                   ...                      ...           ...     ...   \n",
      "195                   53                      3.4          Meal    CHEN   \n",
      "196                   50                      3.2          Meal     MYS   \n",
      "197                   23                      3.2         Snack     MYS   \n",
      "198                   55                      3.7         Snack   COIMB   \n",
      "199                   42                      4.9        Drinks     KOC   \n",
      "\n",
      "     Predicted_Delivery_Time  \n",
      "0                  26.799651  \n",
      "1                  36.593519  \n",
      "2                  32.780000  \n",
      "3                  28.645556  \n",
      "4                  35.811357  \n",
      "..                       ...  \n",
      "195                33.985667  \n",
      "196                33.845667  \n",
      "197                36.973333  \n",
      "198                35.737071  \n",
      "199                27.234406  \n",
      "\n",
      "[200 rows x 5 columns]\n"
     ]
    }
   ],
   "source": [
    "# Predicting delivery times\n",
    "predicted_delivery_times = rf_model.predict(test_data)\n",
    "\n",
    "# Adding predictions to the test data DataFrame\n",
    "test_data['Predicted_Delivery_Time'] = predicted_delivery_times\n",
    "\n",
    "# Displaying the test data with predictions\n",
    "print(test_data)\n"
   ]
  },
  {
   "cell_type": "code",
   "execution_count": null,
   "id": "f3a8b715",
   "metadata": {},
   "outputs": [],
   "source": []
  }
 ],
 "metadata": {
  "kernelspec": {
   "display_name": "Python 3 (ipykernel)",
   "language": "python",
   "name": "python3"
  },
  "language_info": {
   "codemirror_mode": {
    "name": "ipython",
    "version": 3
   },
   "file_extension": ".py",
   "mimetype": "text/x-python",
   "name": "python",
   "nbconvert_exporter": "python",
   "pygments_lexer": "ipython3",
   "version": "3.11.5"
  }
 },
 "nbformat": 4,
 "nbformat_minor": 5
}
